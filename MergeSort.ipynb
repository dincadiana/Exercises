{
 "cells": [
  {
   "cell_type": "code",
   "execution_count": 10,
   "id": "77e573cb",
   "metadata": {},
   "outputs": [],
   "source": [
    "def mergeSort(sequence):\n",
    "\n",
    "    if len(sequence) > 1:\n",
    "        first_half_sequence = sequence[:len(sequence)//2]\n",
    "        second_half_sequence = sequence[len(sequence)//2:]\n",
    "    \n",
    "        mergeSort(first_half_sequence)\n",
    "        mergeSort(second_half_sequence)\n",
    "    \n",
    "        i = 0 \n",
    "        j = 0 \n",
    "        k = 0 \n",
    "    \n",
    "        while i < len(first_half_sequence) and j < len(second_half_sequence):\n",
    "            \n",
    "            if first_half_sequence[i] < second_half_sequence[j]:\n",
    "                sequence[k] = first_half_sequence[i]\n",
    "                i+=1\n",
    "            else:\n",
    "                sequence[k] = second_half_sequence[j]\n",
    "                j+=1\n",
    "                \n",
    "            k+=1\n",
    "        \n",
    "        while i < len(first_half_sequence):\n",
    "            sequence[k] = first_half_sequence[i]\n",
    "            i+=1\n",
    "            k+=1\n",
    "            \n",
    "        while j < len(second_half_sequence):\n",
    "            sequence[k] = second_half_sequence[j]\n",
    "            j+=1\n",
    "            k+=1\n",
    "    return sequence\n",
    "    "
   ]
  },
  {
   "cell_type": "code",
   "execution_count": 11,
   "id": "8842e764",
   "metadata": {},
   "outputs": [],
   "source": [
    "import unittest\n",
    "\n",
    "class MergeSortTest(unittest.TestCase):\n",
    "    \n",
    "    def test_mergeSort1(self):\n",
    "        self.assertEqual(mergeSort([4,2,3,1,8,7,9]),[1,2,3,4,7,8,9])\n",
    "    \n",
    "    def test_mergeSort2(self):\n",
    "        self.assertEqual(mergeSort([7]),[7])\n",
    "        \n",
    "    def test_mergeSort3(self):\n",
    "        self.assertEqual(mergeSort([7,8]),[7,8])\n",
    "        \n",
    "    def test_mergeSort4(self):\n",
    "        self.assertEqual(mergeSort([8,7]),[7,8])\n",
    "        \n",
    "    def test_mergeSort5(self):\n",
    "        self.assertEqual(mergeSort([7,9,8]),[7,8,9])\n",
    "    \n",
    "    def test_mergeSort6(self):\n",
    "        self.assertEqual(mergeSort([10,9,8,7,6]),[6,7,8,9,10])\n",
    "    \n",
    "    def test_mergeSort7(self):\n",
    "        self.assertEqual(mergeSort([7,-7,8,-8,9,-9]),[-9,-8,-7,7,8,9])\n",
    "        \n",
    "    def test_mergeSort8(self):\n",
    "        self.assertEqual(mergeSort([777,-777,888,-888,999,-999]),[-999,-888,-777,777,888,999])    \n",
    "        \n",
    "    def test_mergeSort9(self):\n",
    "        self.assertEqual(mergeSort([1,3,2,4,5,-1,0,-5,-4,-3,-2,7,8,6,9,-9,-7,-8]),[-9,-8,-7,-5,-4,-3,-2,-1,0,1,2,3,4,5,6,7,8,9])\n",
    "\n",
    "    def test_mergeSort10(self):\n",
    "        self.assertEqual(mergeSort([]),[])"
   ]
  },
  {
   "cell_type": "code",
   "execution_count": 12,
   "id": "e417bef7",
   "metadata": {},
   "outputs": [
    {
     "name": "stderr",
     "output_type": "stream",
     "text": [
      "test_mergeSort1 (__main__.MergeSortTest) ... ok\n",
      "test_mergeSort10 (__main__.MergeSortTest) ... ok\n",
      "test_mergeSort2 (__main__.MergeSortTest) ... ok\n",
      "test_mergeSort3 (__main__.MergeSortTest) ... ok\n",
      "test_mergeSort4 (__main__.MergeSortTest) ... ok\n",
      "test_mergeSort5 (__main__.MergeSortTest) ... ok\n",
      "test_mergeSort6 (__main__.MergeSortTest) ... ok\n",
      "test_mergeSort7 (__main__.MergeSortTest) ... ok\n",
      "test_mergeSort8 (__main__.MergeSortTest) ... ok\n",
      "test_mergeSort9 (__main__.MergeSortTest) ... ok\n",
      "\n",
      "----------------------------------------------------------------------\n",
      "Ran 10 tests in 0.025s\n",
      "\n",
      "OK\n"
     ]
    },
    {
     "data": {
      "text/plain": [
       "<unittest.main.TestProgram at 0x1d1ead84550>"
      ]
     },
     "execution_count": 12,
     "metadata": {},
     "output_type": "execute_result"
    }
   ],
   "source": [
    "unittest.main(argv = [''], verbosity = 2, exit = False)"
   ]
  },
  {
   "cell_type": "code",
   "execution_count": null,
   "id": "c61a1121",
   "metadata": {},
   "outputs": [],
   "source": []
  }
 ],
 "metadata": {
  "kernelspec": {
   "display_name": "Python 3 (ipykernel)",
   "language": "python",
   "name": "python3"
  },
  "language_info": {
   "codemirror_mode": {
    "name": "ipython",
    "version": 3
   },
   "file_extension": ".py",
   "mimetype": "text/x-python",
   "name": "python",
   "nbconvert_exporter": "python",
   "pygments_lexer": "ipython3",
   "version": "3.9.7"
  }
 },
 "nbformat": 4,
 "nbformat_minor": 5
}
