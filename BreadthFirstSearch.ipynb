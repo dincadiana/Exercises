{
 "cells": [
  {
   "cell_type": "code",
   "execution_count": 1,
   "id": "5a4cdeb2",
   "metadata": {},
   "outputs": [],
   "source": [
    "import collections\n",
    "class Node:\n",
    "    def __init__(self, name):\n",
    "        self.children = []\n",
    "        self.name = name\n",
    "\n",
    "    def addChild(self, name):\n",
    "        self.children.append(Node(name))\n",
    "        return self\n",
    "\n",
    "    def BFS(self, array):\n",
    "        deque = collections.deque([self])\n",
    "        while len(deque) > 0:\n",
    "            current = deque.popleft()\n",
    "            array.append(current.name)\n",
    "            deque.extend(current.children)\n",
    "        return array"
   ]
  },
  {
   "cell_type": "code",
   "execution_count": null,
   "id": "5c981fc9",
   "metadata": {},
   "outputs": [],
   "source": [
    "import unittest\n",
    "from Binary_Search_Tree import Binary_Search_Tree\n",
    "\n",
    "class BFSTest(unittest.TestCase):\n",
    "    def setUp(self):\n",
    "        self.BST = Binary_Search_Tree()\n",
    "        self.range = range(100)\n",
    "        \n",
    "    def test_bfs1(self)"
   ]
  }
 ],
 "metadata": {
  "kernelspec": {
   "display_name": "Python 3 (ipykernel)",
   "language": "python",
   "name": "python3"
  },
  "language_info": {
   "codemirror_mode": {
    "name": "ipython",
    "version": 3
   },
   "file_extension": ".py",
   "mimetype": "text/x-python",
   "name": "python",
   "nbconvert_exporter": "python",
   "pygments_lexer": "ipython3",
   "version": "3.9.7"
  }
 },
 "nbformat": 4,
 "nbformat_minor": 5
}
