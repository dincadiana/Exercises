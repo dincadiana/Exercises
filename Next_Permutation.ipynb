{
 "cells": [
  {
   "cell_type": "code",
   "execution_count": 129,
   "id": "e09f3b44",
   "metadata": {},
   "outputs": [],
   "source": [
    "def stopAscendingIdx(array):\n",
    "     for i in range(len(array)-1):\n",
    "        if array[i] > array[i + 1]:\n",
    "            return i"
   ]
  },
  {
   "cell_type": "code",
   "execution_count": 130,
   "id": "f882ee33",
   "metadata": {},
   "outputs": [],
   "source": [
    "def get_next_permutation(array):\n",
    "    stop_idx = stopAscendingIdx(array)\n",
    "    array[stop_idx - 1],array[stop_idx] = array[stop_idx],array[stop_idx - 1]\n",
    "    return array"
   ]
  },
  {
   "cell_type": "code",
   "execution_count": 131,
   "id": "02a13d38",
   "metadata": {},
   "outputs": [],
   "source": [
    "import unittest\n",
    "\n",
    "class NextPermutationTest(unittest.TestCase):\n",
    "    \n",
    "    def test_next_permutation1(self):\n",
    "        self.assertEqual(get_next_permutation([1,2,3,4,5,7,6]),[1,2,3,4,7,5,6])\n",
    "    def test_next_permutation2(self):\n",
    "        self.assertEqual(get_next_permutation([1,2,3,7,4,5,6]),[1,2,7,3,4,5,6])\n",
    "    def test_next_permutation3(self):\n",
    "        self.assertEqual(get_next_permutation([1,2,7,3,4,5,6]),[1,7,2,3,4,5,6])\n",
    "    def test_next_permutation4(self):\n",
    "        self.assertEqual(get_next_permutation([1,7,2,3,4,5,6]),[7,1,2,3,4,5,6])\n",
    "    "
   ]
  },
  {
   "cell_type": "code",
   "execution_count": 132,
   "id": "b0a6705c",
   "metadata": {},
   "outputs": [
    {
     "name": "stderr",
     "output_type": "stream",
     "text": [
      "test_next_permutation1 (__main__.NextPermutationTest) ... ok\n",
      "test_next_permutation2 (__main__.NextPermutationTest) ... ok\n",
      "test_next_permutation3 (__main__.NextPermutationTest) ... ok\n",
      "test_next_permutation4 (__main__.NextPermutationTest) ... ok\n",
      "\n",
      "----------------------------------------------------------------------\n",
      "Ran 4 tests in 0.030s\n",
      "\n",
      "OK\n"
     ]
    },
    {
     "data": {
      "text/plain": [
       "<unittest.main.TestProgram at 0x215d839b8e0>"
      ]
     },
     "execution_count": 132,
     "metadata": {},
     "output_type": "execute_result"
    }
   ],
   "source": [
    "unittest.main(argv = [''], verbosity = 2, exit = False)"
   ]
  },
  {
   "cell_type": "code",
   "execution_count": null,
   "id": "c088cce1",
   "metadata": {},
   "outputs": [],
   "source": []
  },
  {
   "cell_type": "code",
   "execution_count": null,
   "id": "921f787f",
   "metadata": {},
   "outputs": [],
   "source": []
  }
 ],
 "metadata": {
  "kernelspec": {
   "display_name": "Python 3 (ipykernel)",
   "language": "python",
   "name": "python3"
  },
  "language_info": {
   "codemirror_mode": {
    "name": "ipython",
    "version": 3
   },
   "file_extension": ".py",
   "mimetype": "text/x-python",
   "name": "python",
   "nbconvert_exporter": "python",
   "pygments_lexer": "ipython3",
   "version": "3.9.7"
  }
 },
 "nbformat": 4,
 "nbformat_minor": 5
}
